{
 "cells": [
  {
   "cell_type": "code",
   "execution_count": 25,
   "metadata": {
    "tags": [
     "skip"
    ]
   },
   "outputs": [
    {
     "name": "stderr",
     "output_type": "stream",
     "text": [
      "ERROR: Can not perform a '--user' install. User site-packages are not visible in this virtualenv.\n",
      "WARNING: You are using pip version 21.3.1; however, version 22.3.1 is available.\n",
      "You should consider upgrading via the 'C:\\Users\\lucaa\\PycharmProjects\\SCCProject\\venv\\Scripts\\python.exe -m pip install --upgrade pip' command.\n"
     ]
    }
   ],
   "source": [
    "!pip install --user -q -r requirements.txt"
   ]
  },
  {
   "cell_type": "code",
   "execution_count": 1,
   "metadata": {
    "tags": [
     "functions"
    ]
   },
   "outputs": [],
   "source": [
    "MODELS_DIR = 'models/'\n",
    "DATA_DIR = 'data/'\n",
    "RESULT_DIR = 'results'\n",
    "stocks = {'Apple':'AAPL','Microsoft':'MSFT','Ibm':'IBM'}\n",
    "stocks_metrics = dict()"
   ]
  },
  {
   "cell_type": "code",
   "execution_count": 2,
   "metadata": {
    "tags": [
     "functions"
    ]
   },
   "outputs": [],
   "source": [
    "def finance_dataset(stock):\n",
    "\n",
    "    app = Ticker(stock)\n",
    "    dataset = app.history(period='max')\n",
    "    dataset = dataset.drop(columns=['Dividends', 'Stock Splits'])\n",
    "\n",
    "    column_list = (dataset.columns.values.tolist())\n",
    "    column_list.insert(0, column_list.pop())\n",
    "    dataset = dataset.reindex(columns=column_list)\n",
    "\n",
    "    return dataset\n",
    "\n",
    "\n",
    "def series_to_supervised(dataset, n_back=10, n_forward=1, dropnan=True):\n",
    "    data = dataset.values.astype('float32')\n",
    "    columns = [x.lower() for x in dataset.columns.values]\n",
    "    n_vars = 1 if type(data) is list else data.shape[1]\n",
    "    df = DataFrame(data)\n",
    "    cols, names = list(), list()\n",
    "\n",
    "    # input sequence (t-n, ... t-1)\n",
    "    for i in range(n_back, 0, -1):\n",
    "        cols.append(df.shift(i))\n",
    "        names += [f'{columns[j]}[t-{i}]' for j in range(n_vars)]\n",
    "\n",
    "    # forecast sequence (t, t+1, ... t+n)\n",
    "    for i in range(0, n_forward + 1):\n",
    "        cols.append(df.shift(-i))\n",
    "        names += [f'{columns[j]}[t{\"\" if i == 0 else f\"+{i}\"}]' for j in range(n_vars)]\n",
    "\n",
    "    # put it all together\n",
    "    time_shifted = concat(cols, axis=1)\n",
    "    time_shifted.columns = names\n",
    "    # drop rows with NaN values\n",
    "    if dropnan:\n",
    "        time_shifted.dropna(inplace=True)\n",
    "    time_shifted = time_shifted.drop(time_shifted.columns[-5:-1], axis=1)\n",
    "    return time_shifted\n",
    "\n",
    "\n",
    "def split_dataset(dataset, train_percentage=.7):\n",
    "    dataset = dataset.copy()\n",
    "    last_column = dataset.pop(dataset.columns[-1])\n",
    "\n",
    "    y = last_column.values\n",
    "    X = dataset.values\n",
    "    return train_test_split(X, y, train_size=train_percentage)"
   ]
  },
  {
   "cell_type": "code",
   "execution_count": 3,
   "metadata": {
    "tags": [
     "imports"
    ]
   },
   "outputs": [
    {
     "name": "stderr",
     "output_type": "stream",
     "text": [
      "2022-12-29 17:46:26.280077: I tensorflow/core/platform/cpu_feature_guard.cc:193] This TensorFlow binary is optimized with oneAPI Deep Neural Network Library (oneDNN) to use the following CPU instructions in performance-critical operations:  SSE4.1 SSE4.2\n",
      "To enable them in other operations, rebuild TensorFlow with the appropriate compiler flags.\n",
      "/Users/lucaaliberti/opt/anaconda3/envs/WebApp/lib/python3.9/site-packages/xgboost/compat.py:36: FutureWarning: pandas.Int64Index is deprecated and will be removed from pandas in a future version. Use pandas.Index with the appropriate dtype instead.\n",
      "  from pandas import MultiIndex, Int64Index\n"
     ]
    }
   ],
   "source": [
    "import json\n",
    "import joblib\n",
    "import keras\n",
    "import numpy as np\n",
    "import xgboost\n",
    "from pandas import DataFrame, concat\n",
    "from pathlib import Path\n",
    "from sklearn.model_selection import train_test_split\n",
    "from sklearn.metrics import mean_squared_error\n",
    "from yfinance import Ticker\n",
    "from lightgbm import LGBMRegressor"
   ]
  },
  {
   "cell_type": "code",
   "execution_count": 4,
   "metadata": {
    "tags": [
     "functions"
    ]
   },
   "outputs": [],
   "source": [
    "def load_data(stock,out_path,back = 10,forward = 1):\n",
    "\n",
    "    dataset = finance_dataset(stock)\n",
    "    supervised_dataset = series_to_supervised(dataset, back, forward)\n",
    "    X_train, X_test, y_train, y_test = split_dataset(supervised_dataset, train_percentage=.7)\n",
    "\n",
    "    data = {'X_train': X_train.tolist(),'y_train': y_train.tolist(),\n",
    "            'X_test': X_test.tolist(),'y_test': y_test.tolist()}\n",
    "\n",
    "    data_json = json.dumps(data)\n",
    "\n",
    "    with open(out_path, 'w') as out_file:\n",
    "        out_file.truncate(0)\n",
    "        json.dump(data_json, out_file)"
   ]
  },
  {
   "cell_type": "code",
   "execution_count": 5,
   "metadata": {
    "tags": [
     "functions"
    ]
   },
   "outputs": [],
   "source": [
    "def manipulate_data(dir_path,out_path):\n",
    "    files_path = [str(x) for x in Path(dir_path).rglob('*') if x.is_file()]\n",
    "    datasets = []\n",
    "\n",
    "    for file in files_path:\n",
    "        with open(file) as data_file:\n",
    "            json_str = json.load(data_file)\n",
    "            datasets.append(json.loads(json_str))\n",
    "            \n",
    "    X_train, X_test, y_train, y_test = [], [], [], []\n",
    "    for data in datasets:\n",
    "        X_train.extend(data['X_train'])\n",
    "        y_train.extend(data['y_train'])\n",
    "        X_test.extend(data['X_test'])\n",
    "        y_test.extend(data['y_test'])\n",
    "\n",
    "    whole_dataset = {'X_train': X_train,'y_train': y_train,\n",
    "                     'X_test': X_test,'y_test': y_test}\n",
    "\n",
    "    data_json = json.dumps(whole_dataset)\n",
    "    with open(out_path, 'w') as out_file:\n",
    "        out_file.truncate(0)\n",
    "        json.dump(data_json, out_file)"
   ]
  },
  {
   "cell_type": "code",
   "execution_count": 6,
   "metadata": {
    "tags": [
     "functions"
    ]
   },
   "outputs": [],
   "source": [
    "def decision_tree(data_path, name=\"whole\"):\n",
    "    with open(data_path) as data_file:\n",
    "        data = json.load(data_file)\n",
    "    data = json.loads(data)\n",
    "\n",
    "    X_train = data['X_train']\n",
    "    y_train = data['y_train']\n",
    "    X_test = data['X_test']\n",
    "    y_test = data['y_test']\n",
    "\n",
    "    model = LGBMRegressor()\n",
    "    model.fit(X_train, y_train)\n",
    "    \n",
    "    joblib.dump(model,MODELS_DIR + name + '_LGBMRegressor.joblib')\n",
    "\n",
    "    y_pred = model.predict(X_test)\n",
    "    return mean_squared_error(y_test, y_pred)\n"
   ]
  },
  {
   "cell_type": "code",
   "execution_count": 7,
   "outputs": [],
   "source": [
    "from xgboost import XGBRegressor\n",
    "\n",
    "\n",
    "def decision_tree_2(data_path, name=\"whole\"):\n",
    "    with open(data_path) as data_file:\n",
    "        data = json.load(data_file)\n",
    "    data = json.loads(data)\n",
    "\n",
    "    X_train = data['X_train']\n",
    "    y_train = data['y_train']\n",
    "    X_test = data['X_test']\n",
    "    y_test = data['y_test']\n",
    "\n",
    "    model = XGBRegressor()\n",
    "    model.fit(X_train, y_train)\n",
    "\n",
    "    joblib.dump(model,MODELS_DIR + name + '_XGBRegressor.joblib')\n",
    "\n",
    "    y_pred = model.predict(X_test)\n",
    "    return mean_squared_error(y_test, y_pred)"
   ],
   "metadata": {
    "collapsed": false
   }
  },
  {
   "cell_type": "code",
   "execution_count": 8,
   "metadata": {
    "tags": [
     "functions"
    ]
   },
   "outputs": [],
   "source": [
    "def show_results(stocks_metrics):\n",
    "    stocks_metrics = sorted(stocks_metrics.items(), key=lambda x:x[1])\n",
    "    \n",
    "    for key,value in stocks_metrics:\n",
    "        print(f'[{key}] {value}')\n"
   ]
  },
  {
   "cell_type": "code",
   "execution_count": 9,
   "outputs": [
    {
     "name": "stdout",
     "output_type": "stream",
     "text": [
      "[Ibm] 0.9649847994712346\n",
      "[Apple] 1.0474779167412467\n",
      "[Whole] 2.440151594145422\n",
      "[Microsoft] 3.1645384937700847\n"
     ]
    }
   ],
   "source": [
    "stocks = {'Apple':'AAPL','Microsoft':'MSFT','Ibm':'IBM'}\n",
    "stocks_metrics = dict()\n",
    "\n",
    "for name,index in stocks.items():\n",
    "    load_data(index, DATA_DIR+name+'.json')\n",
    "    rmse = decision_tree(DATA_DIR+name+'.json', index)\n",
    "    stocks_metrics[name] = rmse\n",
    "\n",
    "manipulate_data(DATA_DIR, DATA_DIR+'whole_dataset.json')\n",
    "rmse = decision_tree(DATA_DIR+'whole_dataset.json')\n",
    "stocks_metrics['Whole'] = rmse\n",
    "\n",
    "show_results(stocks_metrics)\n"
   ],
   "metadata": {
    "collapsed": false
   }
  },
  {
   "cell_type": "code",
   "execution_count": 10,
   "outputs": [
    {
     "name": "stdout",
     "output_type": "stream",
     "text": [
      "[Whole] 0.6787970361457105\n",
      "[Apple] 0.8858530172741975\n",
      "[Ibm] 1.0265390862192958\n",
      "[Microsoft] 3.8065624451122\n"
     ]
    }
   ],
   "source": [
    "stocks = {'Apple':'AAPL','Microsoft':'MSFT','Ibm':'IBM'}\n",
    "stocks_metrics = dict()\n",
    "\n",
    "for name,index in stocks.items():\n",
    "    load_data(index, DATA_DIR+name+'.json')\n",
    "    rmse = decision_tree_2(DATA_DIR+name+'.json', index)\n",
    "    stocks_metrics[name] = rmse\n",
    "\n",
    "manipulate_data(DATA_DIR, DATA_DIR+'whole_dataset.json')\n",
    "rmse = decision_tree_2(DATA_DIR+'whole_dataset.json')\n",
    "stocks_metrics['Whole'] = rmse\n",
    "\n",
    "show_results(stocks_metrics)\n"
   ],
   "metadata": {
    "collapsed": false
   }
  },
  {
   "cell_type": "code",
   "execution_count": null,
   "outputs": [],
   "source": [
    "model = joblib.load(\"models/Apple_XGBRegressor.joblib\")\n",
    "\n",
    "app = Ticker('AAPL')\n",
    "dataset = app.history(start='2022-11-06',end='2022-12-22')\n",
    "dataset = dataset.drop(columns=['Dividends', 'Stock Splits'])\n",
    "print(dataset)\n",
    "column_list = (dataset.columns.values.tolist())\n",
    "column_list.insert(0, column_list.pop())\n",
    "dataset = dataset.reindex(columns=column_list)\n",
    "\n",
    "banale = series_to_supervised(dataset,2,2).drop(columns=['close[t+2]'])\n",
    "\n",
    "print(model.predict(banale))"
   ],
   "metadata": {
    "collapsed": false
   }
  },
  {
   "cell_type": "code",
   "execution_count": null,
   "outputs": [],
   "source": [],
   "metadata": {
    "collapsed": false
   }
  }
 ],
 "metadata": {
  "kernelspec": {
   "display_name": "Python 3 (ipykernel)",
   "language": "python",
   "name": "python3"
  },
  "kubeflow_notebook": {
   "autosnapshot": true,
   "deploy_config": {},
   "docker_image": "gcr.io/arrikto/jupyter-kale-py38@sha256:2e1ce3427b780c0c78e7cfec527ee10c391092fdc4a8344cd76f8b83c61c5234",
   "experiment_name": "mario_brutto",
   "katib_metadata": {
    "algorithm": {
     "algorithmName": "grid"
    },
    "maxFailedTrialCount": 3,
    "maxTrialCount": 12,
    "objective": {
     "objectiveMetricName": "",
     "type": "minimize"
    },
    "parallelTrialCount": 3,
    "parameters": []
   },
   "katib_run": false,
   "pipeline_description": "",
   "pipeline_name": "mario",
   "snapshot_volumes": true,
   "volumes": [
    {
     "annotations": [],
     "mount_point": "/home/jovyan",
     "name": "prova-workspace-drm4g",
     "size": 5,
     "size_type": "Gi",
     "snapshot": false,
     "type": "clone"
    }
   ]
  },
  "language_info": {
   "codemirror_mode": {
    "name": "ipython",
    "version": 3
   },
   "file_extension": ".py",
   "mimetype": "text/x-python",
   "name": "python",
   "nbconvert_exporter": "python",
   "pygments_lexer": "ipython3",
   "version": "3.8.0"
  }
 },
 "nbformat": 4,
 "nbformat_minor": 4
}
